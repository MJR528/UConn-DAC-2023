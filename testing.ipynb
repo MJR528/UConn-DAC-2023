{
 "cells": [
  {
   "cell_type": "code",
   "execution_count": 1,
   "metadata": {
    "ExecuteTime": {
     "end_time": "2023-06-12T21:27:32.594909427Z",
     "start_time": "2023-06-12T21:27:32.594641272Z"
    }
   },
   "outputs": [],
   "source": [
    "# from utils import tool\n",
    "# import torch\n",
    "\n",
    "# model = torch.load(\"/home/cc/Dev/IdeaProjects/UConn/Ding/dac2023-gpu/orig/checkpoint/weight_AP05:0.093240_20-epoch.pth\")\n"
   ]
  },
  {
   "cell_type": "code",
   "execution_count": 2,
   "metadata": {
    "ExecuteTime": {
     "end_time": "2023-06-12T21:27:34.929006909Z",
     "start_time": "2023-06-12T21:27:32.594807590Z"
    }
   },
   "outputs": [
    {
     "name": "stderr",
     "output_type": "stream",
     "text": [
      "Importing VOC files...: 100%|██████████| 10909/10909 [00:01<00:00, 5847.45it/s]\n"
     ]
    }
   ],
   "source": [
    "from pylabel.importer import ImportVOC\n",
    "\n",
    "pylabelds = ImportVOC(\"/home/cc/Dev/IdeaProjects/UConn/Ding/dac2023-gpu/data/train/Annotations\",\n",
    "                      \"/home/cc/Dev/IdeaProjects/UConn/Ding/dac2023-gpu/data/train/JPEGImages\")\n"
   ]
  },
  {
   "cell_type": "markdown",
   "source": [],
   "metadata": {
    "collapsed": false
   }
  },
  {
   "cell_type": "code",
   "execution_count": 3,
   "outputs": [
    {
     "data": {
      "text/plain": "                                              img_folder img_filename   \n0      /home/cc/Dev/IdeaProjects/UConn/Ding/dac2023-g...    00001.jpg  \\\n1      /home/cc/Dev/IdeaProjects/UConn/Ding/dac2023-g...    00001.jpg   \n2      /home/cc/Dev/IdeaProjects/UConn/Ding/dac2023-g...    00001.jpg   \n3      /home/cc/Dev/IdeaProjects/UConn/Ding/dac2023-g...    00001.jpg   \n4      /home/cc/Dev/IdeaProjects/UConn/Ding/dac2023-g...    00002.jpg   \n...                                                  ...          ...   \n97169  /home/cc/Dev/IdeaProjects/UConn/Ding/dac2023-g...    07999.jpg   \n97170  /home/cc/Dev/IdeaProjects/UConn/Ding/dac2023-g...    07999.jpg   \n97171  /home/cc/Dev/IdeaProjects/UConn/Ding/dac2023-g...    07999.jpg   \n97172  /home/cc/Dev/IdeaProjects/UConn/Ding/dac2023-g...    08000.jpg   \n97173  /home/cc/Dev/IdeaProjects/UConn/Ding/dac2023-g...    08000.jpg   \n\n      img_path  img_id  img_width  img_height img_depth ann_segmented   \n0          NaN       0       1920        1080         3             0  \\\n1          NaN       0       1920        1080         3             0   \n2          NaN       0       1920        1080         3             0   \n3          NaN       0       1920        1080         3             0   \n4          NaN       1       1280         720         3             0   \n...        ...     ...        ...         ...       ...           ...   \n97169      NaN   10907       1280         720         3             0   \n97170      NaN   10907       1280         720         3             0   \n97171      NaN   10907       1280         720         3             0   \n97172      NaN   10908       1920        1080         3             0   \n97173      NaN   10908       1920        1080         3             0   \n\n       ann_bbox_xmin  ann_bbox_ymin  ...  ann_segmentation  ann_iscrowd   \n0             1168.0          639.0  ...               NaN          NaN  \\\n1              810.0          627.0  ...               NaN          NaN   \n2              753.0          628.0  ...               NaN          NaN   \n3              615.0          619.0  ...               NaN          NaN   \n4              511.0          327.0  ...               NaN          NaN   \n...              ...            ...  ...               ...          ...   \n97169          667.0          467.0  ...               NaN          NaN   \n97170          373.0          470.0  ...               NaN          NaN   \n97171           60.0          450.0  ...               NaN          NaN   \n97172          911.0          496.0  ...               NaN          NaN   \n97173          876.0          497.0  ...               NaN          NaN   \n\n          ann_pose  ann_truncated  ann_difficult cat_id   \n0      Unspecified              0              0      0  \\\n1      Unspecified              0              0      0   \n2      Unspecified              0              0      1   \n3      Unspecified              0              0      0   \n4      Unspecified              0              0      0   \n...            ...            ...            ...    ...   \n97169  Unspecified              0              0      0   \n97170  Unspecified              0              0      0   \n97171  Unspecified              0              0      1   \n97172  Unspecified              0              0      0   \n97173  Unspecified              0              0      2   \n\n                    cat_name cat_supercategory  split annotated  \n0              Motor Vehicle               NaN  train         1  \n1              Motor Vehicle               NaN  train         1  \n2      Non-motorized Vehicle               NaN  train         1  \n3              Motor Vehicle               NaN  train         1  \n4              Motor Vehicle               NaN  train         1  \n...                      ...               ...    ...       ...  \n97169          Motor Vehicle               NaN    val         1  \n97170          Motor Vehicle               NaN    val         1  \n97171  Non-motorized Vehicle               NaN   test         1  \n97172          Motor Vehicle               NaN    val         1  \n97173             Pedestrian               NaN    val         1  \n\n[97174 rows x 25 columns]",
      "text/html": "<div>\n<style scoped>\n    .dataframe tbody tr th:only-of-type {\n        vertical-align: middle;\n    }\n\n    .dataframe tbody tr th {\n        vertical-align: top;\n    }\n\n    .dataframe thead th {\n        text-align: right;\n    }\n</style>\n<table border=\"1\" class=\"dataframe\">\n  <thead>\n    <tr style=\"text-align: right;\">\n      <th></th>\n      <th>img_folder</th>\n      <th>img_filename</th>\n      <th>img_path</th>\n      <th>img_id</th>\n      <th>img_width</th>\n      <th>img_height</th>\n      <th>img_depth</th>\n      <th>ann_segmented</th>\n      <th>ann_bbox_xmin</th>\n      <th>ann_bbox_ymin</th>\n      <th>...</th>\n      <th>ann_segmentation</th>\n      <th>ann_iscrowd</th>\n      <th>ann_pose</th>\n      <th>ann_truncated</th>\n      <th>ann_difficult</th>\n      <th>cat_id</th>\n      <th>cat_name</th>\n      <th>cat_supercategory</th>\n      <th>split</th>\n      <th>annotated</th>\n    </tr>\n  </thead>\n  <tbody>\n    <tr>\n      <th>0</th>\n      <td>/home/cc/Dev/IdeaProjects/UConn/Ding/dac2023-g...</td>\n      <td>00001.jpg</td>\n      <td>NaN</td>\n      <td>0</td>\n      <td>1920</td>\n      <td>1080</td>\n      <td>3</td>\n      <td>0</td>\n      <td>1168.0</td>\n      <td>639.0</td>\n      <td>...</td>\n      <td>NaN</td>\n      <td>NaN</td>\n      <td>Unspecified</td>\n      <td>0</td>\n      <td>0</td>\n      <td>0</td>\n      <td>Motor Vehicle</td>\n      <td>NaN</td>\n      <td>train</td>\n      <td>1</td>\n    </tr>\n    <tr>\n      <th>1</th>\n      <td>/home/cc/Dev/IdeaProjects/UConn/Ding/dac2023-g...</td>\n      <td>00001.jpg</td>\n      <td>NaN</td>\n      <td>0</td>\n      <td>1920</td>\n      <td>1080</td>\n      <td>3</td>\n      <td>0</td>\n      <td>810.0</td>\n      <td>627.0</td>\n      <td>...</td>\n      <td>NaN</td>\n      <td>NaN</td>\n      <td>Unspecified</td>\n      <td>0</td>\n      <td>0</td>\n      <td>0</td>\n      <td>Motor Vehicle</td>\n      <td>NaN</td>\n      <td>train</td>\n      <td>1</td>\n    </tr>\n    <tr>\n      <th>2</th>\n      <td>/home/cc/Dev/IdeaProjects/UConn/Ding/dac2023-g...</td>\n      <td>00001.jpg</td>\n      <td>NaN</td>\n      <td>0</td>\n      <td>1920</td>\n      <td>1080</td>\n      <td>3</td>\n      <td>0</td>\n      <td>753.0</td>\n      <td>628.0</td>\n      <td>...</td>\n      <td>NaN</td>\n      <td>NaN</td>\n      <td>Unspecified</td>\n      <td>0</td>\n      <td>0</td>\n      <td>1</td>\n      <td>Non-motorized Vehicle</td>\n      <td>NaN</td>\n      <td>train</td>\n      <td>1</td>\n    </tr>\n    <tr>\n      <th>3</th>\n      <td>/home/cc/Dev/IdeaProjects/UConn/Ding/dac2023-g...</td>\n      <td>00001.jpg</td>\n      <td>NaN</td>\n      <td>0</td>\n      <td>1920</td>\n      <td>1080</td>\n      <td>3</td>\n      <td>0</td>\n      <td>615.0</td>\n      <td>619.0</td>\n      <td>...</td>\n      <td>NaN</td>\n      <td>NaN</td>\n      <td>Unspecified</td>\n      <td>0</td>\n      <td>0</td>\n      <td>0</td>\n      <td>Motor Vehicle</td>\n      <td>NaN</td>\n      <td>train</td>\n      <td>1</td>\n    </tr>\n    <tr>\n      <th>4</th>\n      <td>/home/cc/Dev/IdeaProjects/UConn/Ding/dac2023-g...</td>\n      <td>00002.jpg</td>\n      <td>NaN</td>\n      <td>1</td>\n      <td>1280</td>\n      <td>720</td>\n      <td>3</td>\n      <td>0</td>\n      <td>511.0</td>\n      <td>327.0</td>\n      <td>...</td>\n      <td>NaN</td>\n      <td>NaN</td>\n      <td>Unspecified</td>\n      <td>0</td>\n      <td>0</td>\n      <td>0</td>\n      <td>Motor Vehicle</td>\n      <td>NaN</td>\n      <td>train</td>\n      <td>1</td>\n    </tr>\n    <tr>\n      <th>...</th>\n      <td>...</td>\n      <td>...</td>\n      <td>...</td>\n      <td>...</td>\n      <td>...</td>\n      <td>...</td>\n      <td>...</td>\n      <td>...</td>\n      <td>...</td>\n      <td>...</td>\n      <td>...</td>\n      <td>...</td>\n      <td>...</td>\n      <td>...</td>\n      <td>...</td>\n      <td>...</td>\n      <td>...</td>\n      <td>...</td>\n      <td>...</td>\n      <td>...</td>\n      <td>...</td>\n    </tr>\n    <tr>\n      <th>97169</th>\n      <td>/home/cc/Dev/IdeaProjects/UConn/Ding/dac2023-g...</td>\n      <td>07999.jpg</td>\n      <td>NaN</td>\n      <td>10907</td>\n      <td>1280</td>\n      <td>720</td>\n      <td>3</td>\n      <td>0</td>\n      <td>667.0</td>\n      <td>467.0</td>\n      <td>...</td>\n      <td>NaN</td>\n      <td>NaN</td>\n      <td>Unspecified</td>\n      <td>0</td>\n      <td>0</td>\n      <td>0</td>\n      <td>Motor Vehicle</td>\n      <td>NaN</td>\n      <td>val</td>\n      <td>1</td>\n    </tr>\n    <tr>\n      <th>97170</th>\n      <td>/home/cc/Dev/IdeaProjects/UConn/Ding/dac2023-g...</td>\n      <td>07999.jpg</td>\n      <td>NaN</td>\n      <td>10907</td>\n      <td>1280</td>\n      <td>720</td>\n      <td>3</td>\n      <td>0</td>\n      <td>373.0</td>\n      <td>470.0</td>\n      <td>...</td>\n      <td>NaN</td>\n      <td>NaN</td>\n      <td>Unspecified</td>\n      <td>0</td>\n      <td>0</td>\n      <td>0</td>\n      <td>Motor Vehicle</td>\n      <td>NaN</td>\n      <td>val</td>\n      <td>1</td>\n    </tr>\n    <tr>\n      <th>97171</th>\n      <td>/home/cc/Dev/IdeaProjects/UConn/Ding/dac2023-g...</td>\n      <td>07999.jpg</td>\n      <td>NaN</td>\n      <td>10907</td>\n      <td>1280</td>\n      <td>720</td>\n      <td>3</td>\n      <td>0</td>\n      <td>60.0</td>\n      <td>450.0</td>\n      <td>...</td>\n      <td>NaN</td>\n      <td>NaN</td>\n      <td>Unspecified</td>\n      <td>0</td>\n      <td>0</td>\n      <td>1</td>\n      <td>Non-motorized Vehicle</td>\n      <td>NaN</td>\n      <td>test</td>\n      <td>1</td>\n    </tr>\n    <tr>\n      <th>97172</th>\n      <td>/home/cc/Dev/IdeaProjects/UConn/Ding/dac2023-g...</td>\n      <td>08000.jpg</td>\n      <td>NaN</td>\n      <td>10908</td>\n      <td>1920</td>\n      <td>1080</td>\n      <td>3</td>\n      <td>0</td>\n      <td>911.0</td>\n      <td>496.0</td>\n      <td>...</td>\n      <td>NaN</td>\n      <td>NaN</td>\n      <td>Unspecified</td>\n      <td>0</td>\n      <td>0</td>\n      <td>0</td>\n      <td>Motor Vehicle</td>\n      <td>NaN</td>\n      <td>val</td>\n      <td>1</td>\n    </tr>\n    <tr>\n      <th>97173</th>\n      <td>/home/cc/Dev/IdeaProjects/UConn/Ding/dac2023-g...</td>\n      <td>08000.jpg</td>\n      <td>NaN</td>\n      <td>10908</td>\n      <td>1920</td>\n      <td>1080</td>\n      <td>3</td>\n      <td>0</td>\n      <td>876.0</td>\n      <td>497.0</td>\n      <td>...</td>\n      <td>NaN</td>\n      <td>NaN</td>\n      <td>Unspecified</td>\n      <td>0</td>\n      <td>0</td>\n      <td>2</td>\n      <td>Pedestrian</td>\n      <td>NaN</td>\n      <td>val</td>\n      <td>1</td>\n    </tr>\n  </tbody>\n</table>\n<p>97174 rows × 25 columns</p>\n</div>"
     },
     "execution_count": 3,
     "metadata": {},
     "output_type": "execute_result"
    }
   ],
   "source": [
    "        pylabelds.splitter.GroupShuffleSplit(train_pct=.7, val_pct=.29, test_pct=.01, random_state=42)\n",
    "pylabelds.df"
   ],
   "metadata": {
    "collapsed": false,
    "ExecuteTime": {
     "end_time": "2023-06-12T21:27:35.048358070Z",
     "start_time": "2023-06-12T21:27:34.930619590Z"
    }
   }
  },
  {
   "cell_type": "code",
   "execution_count": 4,
   "outputs": [
    {
     "name": "stderr",
     "output_type": "stream",
     "text": [
      "/home/cc/.cache/pypoetry/virtualenvs/dac2023-gpu-fastestdet-4X0QWZQw-py3.11/lib64/python3.11/site-packages/torchvision/io/image.py:13: UserWarning: Failed to load image Python extension: '/home/cc/.cache/pypoetry/virtualenvs/dac2023-gpu-fastestdet-4X0QWZQw-py3.11/lib64/python3.11/site-packages/torchvision/image.so: undefined symbol: _ZN3c104cuda20CUDACachingAllocator9allocatorE'If you don't plan on using image functionality from `torchvision.io`, you can ignore this warning. Otherwise, there might be something wrong with your environment. Did you have `libjpeg` or `libpng` installed before building `torchvision` from source?\n",
      "  warn(\n"
     ]
    }
   ],
   "source": [
    "from dataset import DACDataset\n",
    "\n",
    "train_ds = DACDataset(pylabelds, split='train')\n",
    "val_ds = DACDataset(pylabelds, split='val')"
   ],
   "metadata": {
    "collapsed": false,
    "ExecuteTime": {
     "end_time": "2023-06-12T21:27:35.617103722Z",
     "start_time": "2023-06-12T21:27:35.049830083Z"
    }
   }
  },
  {
   "cell_type": "code",
   "execution_count": 5,
   "outputs": [
    {
     "name": "stdout",
     "output_type": "stream",
     "text": [
      "10557\n",
      "8938\n"
     ]
    }
   ],
   "source": [
    "print(len(train_ds))\n",
    "print(len(val_ds))\n",
    "# (len(train_ds)) / (len(train_ds) + len(val_ds))"
   ],
   "metadata": {
    "collapsed": false,
    "ExecuteTime": {
     "end_time": "2023-06-12T21:27:35.620185775Z",
     "start_time": "2023-06-12T21:27:35.618200245Z"
    }
   }
  },
  {
   "cell_type": "code",
   "execution_count": 6,
   "outputs": [
    {
     "data": {
      "text/plain": "tensor([[[155, 155, 155,  ..., 213, 179, 181],\n         [155, 155, 155,  ..., 210, 176,  83],\n         [155, 155, 155,  ..., 184,  94, 189],\n         ...,\n         [ 19,  20,  21,  ...,   2,   2,   2],\n         [ 19,  20,  22,  ...,   2,   2,   2],\n         [ 19,  20,  20,  ...,   2,   2,   2]],\n\n        [[123, 123, 123,  ..., 214, 180, 182],\n         [123, 123, 123,  ..., 211, 176,  84],\n         [123, 123, 123,  ..., 185,  95, 190],\n         ...,\n         [ 59,  58,  57,  ...,   6,   6,   6],\n         [ 59,  58,  58,  ...,   6,   6,   6],\n         [ 59,  58,  56,  ...,   6,   6,   6]],\n\n        [[ 98,  98,  98,  ..., 218, 184, 187],\n         [ 98,  98,  98,  ..., 215, 181,  89],\n         [ 98,  98,  98,  ..., 189,  99, 195],\n         ...,\n         [ 95,  95,  93,  ...,   9,   9,   9],\n         [ 95,  95,  93,  ...,   9,   9,   9],\n         [ 95,  95,  92,  ...,   9,   9,   9]]], dtype=torch.uint8)"
     },
     "execution_count": 6,
     "metadata": {},
     "output_type": "execute_result"
    }
   ],
   "source": [
    "imgtensor, label = val_ds[0]\n",
    "imgtensor"
   ],
   "metadata": {
    "collapsed": false,
    "ExecuteTime": {
     "end_time": "2023-06-12T21:27:35.657716480Z",
     "start_time": "2023-06-12T21:27:35.620693091Z"
    }
   }
  }
 ],
 "metadata": {
  "kernelspec": {
   "display_name": "Python 3 (ipykernel)",
   "language": "python",
   "name": "python3"
  },
  "language_info": {
   "name": "python"
  },
  "orig_nbformat": 4
 },
 "nbformat": 4,
 "nbformat_minor": 2
}
